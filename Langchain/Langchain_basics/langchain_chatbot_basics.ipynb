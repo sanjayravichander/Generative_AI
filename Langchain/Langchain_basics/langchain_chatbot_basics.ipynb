{
 "cells": [
  {
   "cell_type": "code",
   "execution_count": null,
   "metadata": {},
   "outputs": [
    {
     "data": {
      "text/plain": [
       "True"
      ]
     },
     "execution_count": 1,
     "metadata": {},
     "output_type": "execute_result"
    }
   ],
   "source": [
    "import os\n",
    "from dotenv import load_dotenv\n",
    "load_dotenv()"
   ]
  },
  {
   "cell_type": "code",
   "execution_count": 2,
   "metadata": {},
   "outputs": [],
   "source": [
    "api_key=os.environ[\"GROQAI_API_KEY\"]=os.getenv(\"GROQAI_API_KEY\")"
   ]
  },
  {
   "cell_type": "code",
   "execution_count": 3,
   "metadata": {},
   "outputs": [],
   "source": [
    "from langchain_groq import ChatGroq\n",
    "llm=ChatGroq(temperature=0.5,api_key=api_key,model_name=\"mixtral-8x7b-32768\")"
   ]
  },
  {
   "cell_type": "code",
   "execution_count": 4,
   "metadata": {},
   "outputs": [
    {
     "data": {
      "text/plain": [
       "AIMessage(content=\"Hello Sanjay, it's great to hear that you aspire to become an AI engineer! Artificial Intelligence (AI) is a rapidly growing field with numerous opportunities and exciting advancements. To help you achieve your dream, here are some steps you can take:\\n\\n1. Education and background:\\nTypically, a bachelor's degree in computer science, engineering, mathematics, or a related field is required. Having a strong foundation in programming, data structures, algorithms, and mathematics (especially statistics, linear algebra, and calculus) is crucial.\\n\\n2. Learn programming languages:\\nPython is the most popular language for AI and machine learning due to its simplicity and extensive libraries such as NumPy, Pandas, TensorFlow, and PyTorch. Familiarize yourself with Python and other programming languages like C++, Java, or R.\\n\\n3. Mathematics and statistics:\\nDeepen your understanding of mathematical concepts and statistical methods used in AI, such as probability, linear algebra, optimization, and Bayesian inference.\\n\\n4. Machine learning fundamentals:\\nGet acquainted with machine learning algorithms and techniques, including supervised learning (regression, classification, clustering), unsupervised learning (dimensionality reduction, autoencoders), and reinforcement learning.\\n\\n5. Deep learning and neural networks:\\nLearn about deep learning architectures like Convolutional Neural Networks (CNNs), Recurrent Neural Networks (RNNs), and Long Short-Term Memory (LSTM) networks. Understand backpropagation, activation functions, and loss functions.\\n\\n6. Specializations:\\nChoose a specific area of AI to specialize in, such as natural language processing, computer vision, robotics, or reinforcement learning.\\n\\n7. Hands-on projects:\\nImplement AI projects to gain practical experience. Participate in competitions on platforms like Kaggle, or contribute to open-source projects.\\n\\n8. Internships and work experience:\\nGain industry experience through internships or entry-level positions in AI-related fields. This will help you build a professional network and understand real-world applications of AI.\\n\\n9. Stay updated:\\nFollow AI researchers, blogs, and forums to stay informed about the latest advancements and trends in the field.\\n\\n10. Certifications and higher education:\\nConsider obtaining certifications or pursuing higher education, such as a master's or Ph.D., in AI or a related field. This can help you stand out in the job market and demonstrate your expertise.\\n\\nBest of luck in your journey to becoming an AI engineer, Sanjay!\", additional_kwargs={}, response_metadata={'token_usage': {'completion_tokens': 571, 'prompt_tokens': 25, 'total_tokens': 596, 'completion_time': 0.89582831, 'prompt_time': 0.005035444, 'queue_time': 0.568591421, 'total_time': 0.900863754}, 'model_name': 'mixtral-8x7b-32768', 'system_fingerprint': 'fp_c5f20b5bb1', 'finish_reason': 'stop', 'logprobs': None}, id='run-e15c50cf-743d-46b4-8a14-713651971f4d-0', usage_metadata={'input_tokens': 25, 'output_tokens': 571, 'total_tokens': 596})"
      ]
     },
     "execution_count": 4,
     "metadata": {},
     "output_type": "execute_result"
    }
   ],
   "source": [
    "from langchain_core.messages import HumanMessage\n",
    "llm.invoke([HumanMessage(content=\"Hi! Myself Sanjay and my dream is to become an AI Engineer\")])"
   ]
  },
  {
   "cell_type": "markdown",
   "metadata": {},
   "source": [
    "ChatMessageHistory: A class from langchain_community that helps store and retrieve chat history in memory.\n",
    "\n",
    "BaseChatMessageHistory: A base class from langchain_core for handling message history (used for compatibility with different memory implementations).\n",
    "\n",
    "RunnableWithMessageHistory: A wrapper that allows a LangChain model (llm) to retain chat history across multiple interactions."
   ]
  },
  {
   "cell_type": "code",
   "execution_count": 5,
   "metadata": {},
   "outputs": [],
   "source": [
    "## Message History\n",
    "from langchain_community.chat_message_histories import ChatMessageHistory\n",
    "from langchain_core.chat_history import BaseChatMessageHistory\n",
    "from langchain_core.runnables.history import RunnableWithMessageHistory\n",
    "\n",
    "store={}\n",
    "def get_chat_message_history(session_id:str)->BaseChatMessageHistory:\n",
    "    if session_id not in store:\n",
    "        store[session_id]=ChatMessageHistory()\n",
    "    return store[session_id]\n",
    "\n",
    "with_message_history=RunnableWithMessageHistory(llm,get_chat_message_history)\n",
    "\n",
    "configuration={\"configurable\":{\"session_id\":\"Chat_1\"}}"
   ]
  },
  {
   "cell_type": "code",
   "execution_count": 6,
   "metadata": {},
   "outputs": [
    {
     "data": {
      "text/plain": [
       "\"Hello Sanjay, that's great to hear that you want to become an AI Engineer! Artificial Intelligence is a rapidly growing field with many exciting opportunities. Here are some steps you can take to achieve your dream:\\n\\n1. Education: Obtain a strong foundation in mathematics and computer science. A bachelor's degree in computer science, mathematics, or a related field is often required for AI engineering positions. Consider pursuing a master's degree or a PhD in AI or a related field to gain a competitive edge.\\n2. Programming Skills: Learn programming languages such as Python, R, and Java. These languages are commonly used in AI development.\\n3. Machine Learning: Familiarize yourself with machine learning algorithms and techniques such as supervised and unsupervised learning, deep learning, and natural language processing.\\n4. Data Analysis: Develop skills in data analysis and data visualization. AI engineers often work with large datasets and need to be able to analyze and interpret the data.\\n5. Project Experience: Build a portfolio of projects that demonstrate your AI engineering skills. Participate in hackathons, open-source projects, or internships to gain practical experience.\\n6. Stay Updated: Keep up-to-date with the latest AI trends and technologies. Attend conferences, read industry publications, and network with other professionals in the field.\\n\\nRemember, becoming an AI engineer takes time, dedication, and hard work. But with persistence and a passion for learning, you can achieve your dream! Good luck!\""
      ]
     },
     "execution_count": 6,
     "metadata": {},
     "output_type": "execute_result"
    }
   ],
   "source": [
    "response=with_message_history.invoke([\n",
    "HumanMessage(content=\"Hi! Myself Sanjay and my dream is to become an AI Engineer\")],config=configuration)\n",
    "response.content"
   ]
  },
  {
   "cell_type": "code",
   "execution_count": 7,
   "metadata": {},
   "outputs": [
    {
     "data": {
      "text/plain": [
       "AIMessage(content=\"I'm sorry for the confusion, I must have misunderstood your previous message. Based on your latest message, your name is Sanjay. It's nice to meet you, Sanjay! Is there anything specific you would like to know about AI engineering or becoming an AI engineer? I'm here to help.\", additional_kwargs={}, response_metadata={'token_usage': {'completion_tokens': 68, 'prompt_tokens': 363, 'total_tokens': 431, 'completion_time': 0.104789184, 'prompt_time': 0.104459416, 'queue_time': 0.9939321259999999, 'total_time': 0.2092486}, 'model_name': 'mixtral-8x7b-32768', 'system_fingerprint': 'fp_c5f20b5bb1', 'finish_reason': 'stop', 'logprobs': None}, id='run-a56d8340-67c1-4e5c-aaaa-abe192fa11f6-0', usage_metadata={'input_tokens': 363, 'output_tokens': 68, 'total_tokens': 431})"
      ]
     },
     "execution_count": 7,
     "metadata": {},
     "output_type": "execute_result"
    }
   ],
   "source": [
    "with_message_history.invoke([\n",
    "    HumanMessage(content=\"What's my name?\")\n",
    "],config=configuration)"
   ]
  },
  {
   "cell_type": "code",
   "execution_count": 8,
   "metadata": {},
   "outputs": [
    {
     "data": {
      "text/plain": [
       "AIMessage(content=\"I don't have enough information to Usernames are typically chosen by the user themselves, and I don't have access to your personal details or choices.\", additional_kwargs={}, response_metadata={'token_usage': {'completion_tokens': 33, 'prompt_tokens': 13, 'total_tokens': 46, 'completion_time': 0.050149298, 'prompt_time': 0.004777246, 'queue_time': 2.5566533359999997, 'total_time': 0.054926544}, 'model_name': 'mixtral-8x7b-32768', 'system_fingerprint': 'fp_c5f20b5bb1', 'finish_reason': 'stop', 'logprobs': None}, id='run-172347ca-7a21-4229-81a5-a3a17a4d95c9-0', usage_metadata={'input_tokens': 13, 'output_tokens': 33, 'total_tokens': 46})"
      ]
     },
     "execution_count": 8,
     "metadata": {},
     "output_type": "execute_result"
    }
   ],
   "source": [
    "configuration_2={\"configurable\":{\"session_id\":\"Chat_2\"}}\n",
    "with_message_history.invoke([\n",
    "    HumanMessage(content=\"What's my name?\")\n",
    "],config=configuration_2)"
   ]
  },
  {
   "cell_type": "code",
   "execution_count": 9,
   "metadata": {},
   "outputs": [
    {
     "data": {
      "text/plain": [
       "AIMessage(content=\"Hello Sanjay, it's nice to meet you! I'm here to help answer your questions to the best of my ability. Is there something specific you would like to know?\", additional_kwargs={}, response_metadata={'token_usage': {'completion_tokens': 40, 'prompt_tokens': 68, 'total_tokens': 108, 'completion_time': 0.060936058, 'prompt_time': 0.029726426, 'queue_time': 1.098216957, 'total_time': 0.090662484}, 'model_name': 'mixtral-8x7b-32768', 'system_fingerprint': 'fp_c5f20b5bb1', 'finish_reason': 'stop', 'logprobs': None}, id='run-71730e7f-9e3e-40f1-a287-b33d035afc50-0', usage_metadata={'input_tokens': 68, 'output_tokens': 40, 'total_tokens': 108})"
      ]
     },
     "execution_count": 9,
     "metadata": {},
     "output_type": "execute_result"
    }
   ],
   "source": [
    "configuration_2={\"configurable\":{\"session_id\":\"Chat_2\"}}\n",
    "with_message_history.invoke([\n",
    "    HumanMessage(content=\"Hi! My name is Sanjay and I'm 25\")\n",
    "],config=configuration_2)"
   ]
  },
  {
   "cell_type": "code",
   "execution_count": 10,
   "metadata": {},
   "outputs": [
    {
     "data": {
      "text/plain": [
       "AIMessage(content='You mentioned earlier that you are 25 years old, Sanjay. How can I assist you further?', additional_kwargs={}, response_metadata={'token_usage': {'completion_tokens': 24, 'prompt_tokens': 120, 'total_tokens': 144, 'completion_time': 0.036453934, 'prompt_time': 0.058842418, 'queue_time': 1.53657909, 'total_time': 0.095296352}, 'model_name': 'mixtral-8x7b-32768', 'system_fingerprint': 'fp_c5f20b5bb1', 'finish_reason': 'stop', 'logprobs': None}, id='run-867f3fe4-65cd-45b3-b90c-5a3c815d8a75-0', usage_metadata={'input_tokens': 120, 'output_tokens': 24, 'total_tokens': 144})"
      ]
     },
     "execution_count": 10,
     "metadata": {},
     "output_type": "execute_result"
    }
   ],
   "source": [
    "configuration_2={\"configurable\":{\"session_id\":\"Chat_2\"}}\n",
    "with_message_history.invoke([\n",
    "    HumanMessage(content=\"What is my age?\")\n",
    "],config=configuration_2)"
   ]
  },
  {
   "cell_type": "code",
   "execution_count": 11,
   "metadata": {},
   "outputs": [
    {
     "data": {
      "text/plain": [
       "AIMessage(content=\"I apologize for any confusion, but I am an AI language model, and I don't have the ability to determine someone's age based on a conversation or text. I am here to provide information and answer questions to the best of my ability, based on the text that I am given. If you have any questions about AI engineering or becoming an AI engineer, I would be happy to help!\", additional_kwargs={}, response_metadata={'token_usage': {'completion_tokens': 83, 'prompt_tokens': 443, 'total_tokens': 526, 'completion_time': 0.12905951, 'prompt_time': 0.091449267, 'queue_time': 2.01608283, 'total_time': 0.220508777}, 'model_name': 'mixtral-8x7b-32768', 'system_fingerprint': 'fp_c5f20b5bb1', 'finish_reason': 'stop', 'logprobs': None}, id='run-fb18a28a-d482-4cb7-8240-7a743a8cd02c-0', usage_metadata={'input_tokens': 443, 'output_tokens': 83, 'total_tokens': 526})"
      ]
     },
     "execution_count": 11,
     "metadata": {},
     "output_type": "execute_result"
    }
   ],
   "source": [
    "configuration_2={\"configurable\":{\"session_id\":\"Chat_1\"}}\n",
    "with_message_history.invoke([\n",
    "    HumanMessage(content=\"What is my age?\")\n",
    "],config=configuration_2)"
   ]
  },
  {
   "cell_type": "code",
   "execution_count": 12,
   "metadata": {},
   "outputs": [],
   "source": [
    "# Integrating chat history in simple Q and A chatbot\n",
    "from langchain_core.prompts import ChatPromptTemplate,MessagesPlaceholder\n",
    "prompt=ChatPromptTemplate.from_messages([(\n",
    "    \"system\",\"You're a cheif doctor with handsome of experience in human health.Assist the user if they come up with any problems in their health\"),\n",
    "    MessagesPlaceholder(variable_name=\"messages\"),\n",
    "])\n",
    "chain=prompt|llm"
   ]
  },
  {
   "cell_type": "code",
   "execution_count": 13,
   "metadata": {},
   "outputs": [
    {
     "data": {
      "text/plain": [
       "AIMessage(content=\"I'm an artificial intelligence and not a doctor, but I can certainly try to help you. Feeling nauseous and dizzy can be caused by a variety of factors, such as motion sickness, dehydration, low blood sugar, inner ear problems, or certain medications.\\n\\nIf you have been experiencing these symptoms frequently, it would be a good idea to consult with a healthcare professional who can evaluate your condition and provide appropriate treatment. In the meantime, here are some things you can try to alleviate your symptoms:\\n\\n* Drink plenty of fluids to prevent dehydration.\\n* Eat small, frequent meals to maintain your blood sugar levels.\\n* Avoid alcohol, caffeine, and spicy or greasy foods, which can irritate your stomach.\\n* Get enough rest and avoid stress.\\n* Try over-the-counter remedies such as motion sickness medication or anti-nausea medication, but be sure to follow the instructions on the label.\\n\\nIf your symptoms persist or worsen, seek medical attention immediately.\", additional_kwargs={}, response_metadata={'token_usage': {'completion_tokens': 229, 'prompt_tokens': 48, 'total_tokens': 277, 'completion_time': 0.363146902, 'prompt_time': 0.017788546, 'queue_time': 1.045718992, 'total_time': 0.380935448}, 'model_name': 'mixtral-8x7b-32768', 'system_fingerprint': 'fp_c5f20b5bb1', 'finish_reason': 'stop', 'logprobs': None}, id='run-5abe50e0-9740-4fc9-aef4-8d2890652b12-0', usage_metadata={'input_tokens': 48, 'output_tokens': 229, 'total_tokens': 277})"
      ]
     },
     "execution_count": 13,
     "metadata": {},
     "output_type": "execute_result"
    }
   ],
   "source": [
    "chain.invoke({\"messages\":[HumanMessage(content=\"Hi, I always feel like vomitting and dizziness\")]})"
   ]
  },
  {
   "cell_type": "code",
   "execution_count": 14,
   "metadata": {},
   "outputs": [
    {
     "data": {
      "text/plain": [
       "\"Hi Sanjay, I'm sorry to hear that you were affected with pneumonia. Pneumonia is an infection that inflames the air sacs in one or both lungs, which may fill with fluid or pus. It can cause cough, chest pain, and difficulty breathing.\\n\\nIt's important to take good care of yourself and follow your healthcare provider's recommendations for treatment. This may include taking antibiotics (if your pneumonia is bacterial), getting plenty of rest, and staying hydrated. It's also a good idea to avoid smoking and exposure to irritants that can further inflame your lungs.\\n\\nIf you have any concerns or questions about your recovery, don't hesitate to reach out to your healthcare provider. They can provide you with the guidance and support you need to get back on your feet.\\n\\nI hope you feel better soon.\""
      ]
     },
     "execution_count": 14,
     "metadata": {},
     "output_type": "execute_result"
    }
   ],
   "source": [
    "configuration_3={\"configurable\":{\"session_id\":\"chat_3\"}}\n",
    "response=with_message_history.invoke([HumanMessage(content=\"Hi! Myself Sanjay and I'm 25, I was affected with Pneumonia\")],\n",
    "                                     config=configuration_3)\n",
    "response.content\n"
   ]
  },
  {
   "cell_type": "code",
   "execution_count": 15,
   "metadata": {},
   "outputs": [
    {
     "data": {
      "text/plain": [
       "AIMessage(content=\"I'm an artificial intelligence and I don't have the ability to diagnose medical conditions or determine what happened to you. I can provide general information about pneumonia, but I can't give you specific details about your case.\\n\\nPneumonia is caused by a variety of organisms, including bacteria, viruses, and fungi. It can also be caused by inhaling chemicals or other irritants. The symptoms of pneumonia can vary, but they often include cough, chest pain, difficulty breathing, fever, and fatigue.\\n\\nPneumonia can be mild or severe, and it can be treated with a variety of methods depending on the cause and severity of the infection. In most cases, pneumonia is treated with antibiotics (if it's bacterial), rest, and fluids. In more severe cases, hospitalization and additional treatments may be necessary.\\n\\nIt's important to follow the treatment plan recommended by your healthcare provider to ensure a full and successful recovery. If you have any concerns or questions about your condition, don't hesitate to reach out to them for more information.\", additional_kwargs={}, response_metadata={'token_usage': {'completion_tokens': 238, 'prompt_tokens': 233, 'total_tokens': 471, 'completion_time': 0.380098626, 'prompt_time': 0.06619233, 'queue_time': 1.895348102, 'total_time': 0.446290956}, 'model_name': 'mixtral-8x7b-32768', 'system_fingerprint': 'fp_c5f20b5bb1', 'finish_reason': 'stop', 'logprobs': None}, id='run-969d3e9d-dd7a-497e-b22e-aed650ab86a2-0', usage_metadata={'input_tokens': 233, 'output_tokens': 238, 'total_tokens': 471})"
      ]
     },
     "execution_count": 15,
     "metadata": {},
     "output_type": "execute_result"
    }
   ],
   "source": [
    "with_message_history.invoke([HumanMessage(content=\"Can you say what happened to me?\")],\n",
    "                                     config=configuration_3)"
   ]
  },
  {
   "cell_type": "code",
   "execution_count": 16,
   "metadata": {},
   "outputs": [
    {
     "name": "stdout",
     "output_type": "stream",
     "text": [
      "Hello Sanjay, I'm sorry to hear that you're experiencing chronic itching and dizziness. These symptoms can be caused by a variety of factors, ranging from allergies to more serious medical conditions.\n",
      "\n",
      "Itching can be caused by dry skin, insect bites, allergic reactions, or underlying medical conditions such as liver disease, kidney disease, or thyroid problems. Dizziness, on the other hand, can be caused by inner ear problems, low blood sugar, dehydration, or medication side effects.\n",
      "\n",
      "To determine the cause of your symptoms, I would recommend that you schedule an appointment with your primary care physician. They can perform a physical examination, review your medical history, and order any necessary tests to help diagnose the underlying cause of your itching and dizziness.\n",
      "\n",
      "In the meantime, there are a few things you can try to alleviate your symptoms:\n",
      "\n",
      "* For itching, try taking a warm bath with oatmeal or baking soda, applying a cool compress to the affected area, or using over-the-counter anti-itch creams or lotions.\n",
      "* For dizziness, try sitting down or lying down immediately when you feel dizzy, drinking plenty of fluids, and avoiding caffeine, alcohol, and tobacco.\n",
      "\n",
      "It's important to note that if your symptoms are severe or persist despite trying these home remedies, you should seek medical attention immediately.\n"
     ]
    }
   ],
   "source": [
    "# More complex task\n",
    "prompt_1 = ChatPromptTemplate.from_messages([\n",
    "    (\"system\", \"You're a chief doctor with extensive experience in human health. Always respond fully in {language}.\"),\n",
    "    MessagesPlaceholder(variable_name=\"messages\"),\n",
    "])\n",
    "\n",
    "chain_1 = prompt_1 | llm\n",
    "\n",
    "response_1 = chain_1.invoke({\"messages\": [HumanMessage(content=\"Hi,I am Sanjay and I always feel like itching and dizziness\")], \"language\": \"english\"})\n",
    "\n",
    "print(response_1.content)"
   ]
  },
  {
   "cell_type": "code",
   "execution_count": 17,
   "metadata": {},
   "outputs": [],
   "source": [
    "with_message_history=RunnableWithMessageHistory(\n",
    "    chain_1,\n",
    "    get_chat_message_history,\n",
    "    input_messages_key=\"messages\"\n",
    ")"
   ]
  },
  {
   "cell_type": "code",
   "execution_count": 20,
   "metadata": {},
   "outputs": [
    {
     "name": "stdout",
     "output_type": "stream",
     "text": [
      "Hello Sanjay, I'm Dr. Smith. You mentioned that you are 25 years old and that you have been experiencing frequent headaches and a running nose. I would recommend that you schedule an appointment with your primary care physician or an ear, nose, and throat (ENT) specialist to determine the cause of your symptoms and develop a treatment plan tailored to your specific needs. Some steps you can take in the meantime to alleviate your symptoms include using over-the-counter pain relievers for headaches, trying a saline nasal spray or irrigation system for a running nose, avoiding triggers, and staying hydrated.\n"
     ]
    }
   ],
   "source": [
    "configuration_4={\"configurable\":{\"session_id\":\"chat_4\"}}\n",
    "response_2=with_message_history.invoke(\n",
    "    {\"messages\":[HumanMessage(content=\"Hi, Myself Sanjay and I'm 25.I am always getting headache and running nose\")],\n",
    "     \"language\":\"english\"},config=configuration_4\n",
    ")\n",
    "print(response_2.content)"
   ]
  },
  {
   "cell_type": "code",
   "execution_count": 21,
   "metadata": {},
   "outputs": [
    {
     "name": "stdout",
     "output_type": "stream",
     "text": [
      "Hello Sanjay, you mentioned earlier that you are 25 years old and that you have been experiencing frequent headaches and a running nose.\n"
     ]
    }
   ],
   "source": [
    "response_3=with_message_history.invoke(\n",
    "    {\"messages\":[HumanMessage(content=\"What is my name and what problem I mentioned earlier\")],\n",
    "     \"language\":\"english\"},config=configuration_4\n",
    ")\n",
    "print(response_3.content)"
   ]
  },
  {
   "cell_type": "code",
   "execution_count": 26,
   "metadata": {},
   "outputs": [],
   "source": [
    "# Managing the chat history as it do not goes beyond the limited context tokens in every llm\n",
    "from langchain_core.messages import trim_messages\n",
    "trim=trim_messages(\n",
    "    max_tokens=100,\n",
    "    token_counter=llm,\n",
    "    strategy=\"last\",\n",
    "    allow_partial=False,\n",
    "    start_on=\"human\",\n",
    "    include_system=True\n",
    ")"
   ]
  },
  {
   "cell_type": "code",
   "execution_count": 27,
   "metadata": {},
   "outputs": [
    {
     "name": "stderr",
     "output_type": "stream",
     "text": [
      "c:\\Users\\DELL\\Generative_AI\\venv\\lib\\site-packages\\tqdm\\auto.py:21: TqdmWarning: IProgress not found. Please update jupyter and ipywidgets. See https://ipywidgets.readthedocs.io/en/stable/user_install.html\n",
      "  from .autonotebook import tqdm as notebook_tqdm\n",
      "c:\\Users\\DELL\\Generative_AI\\venv\\lib\\site-packages\\huggingface_hub\\file_download.py:142: UserWarning: `huggingface_hub` cache-system uses symlinks by default to efficiently store duplicated files but your machine does not support them in C:\\Users\\DELL\\.cache\\huggingface\\hub\\models--gpt2. Caching files will still work but in a degraded version that might require more space on your disk. This warning can be disabled by setting the `HF_HUB_DISABLE_SYMLINKS_WARNING` environment variable. For more details, see https://huggingface.co/docs/huggingface_hub/how-to-cache#limitations.\n",
      "To support symlinks on Windows, you either need to activate Developer Mode or to run Python as an administrator. In order to activate developer mode, see this article: https://docs.microsoft.com/en-us/windows/apps/get-started/enable-your-device-for-development\n",
      "  warnings.warn(message)\n"
     ]
    },
    {
     "data": {
      "text/plain": [
       "[SystemMessage(content='You are a helpful assistant.', additional_kwargs={}, response_metadata={}),\n",
       " HumanMessage(content='Who won the world series in 2020?', additional_kwargs={}, response_metadata={}),\n",
       " AIMessage(content='The Los Angeles Dodgers won the World Series in 2020.', additional_kwargs={}, response_metadata={}),\n",
       " HumanMessage(content='Where was it played?', additional_kwargs={}, response_metadata={})]"
      ]
     },
     "execution_count": 27,
     "metadata": {},
     "output_type": "execute_result"
    }
   ],
   "source": [
    "# Example chatbot\n",
    "chat_messages=[\n",
    "    {\"role\": \"system\", \"content\": \"You are a helpful assistant.\"},\n",
    "    {\"role\": \"user\", \"content\": \"Who won the world series in 2020?\"},\n",
    "    {\"role\": \"assistant\", \"content\": \"The Los Angeles Dodgers won the World Series in 2020.\"},\n",
    "    {\"role\": \"user\", \"content\": \"Where was it played?\"}\n",
    "]\n",
    "trim.invoke(chat_messages)"
   ]
  },
  {
   "cell_type": "code",
   "execution_count": null,
   "metadata": {},
   "outputs": [
    {
     "data": {
      "text/plain": [
       "'The World Series in 2020 was won by the Los Angeles Dodgers. They defeated the Tampa Bay Rays in six games to claim the championship. The series was played at Globe Life Field in Arlington, Texas.'"
      ]
     },
     "execution_count": 28,
     "metadata": {},
     "output_type": "execute_result"
    }
   ],
   "source": [
    "from operator import itemgetter\n",
    "from langchain_core.runnables import RunnablePassthrough\n",
    "\n",
    "chain=(RunnablePassthrough.assign(messages=itemgetter(\"messages\")|trim)|prompt|llm)\n",
    "response_4=chain.invoke({\"messages\":chat_messages + [HumanMessage(content=\"Who won the world series in 2020\")],\"language\":\"english\"})\n",
    "response_4.content"
   ]
  },
  {
   "cell_type": "code",
   "execution_count": 29,
   "metadata": {},
   "outputs": [],
   "source": [
    "with_message_history=RunnableWithMessageHistory(\n",
    "    chain,\n",
    "    get_chat_message_history,\n",
    "    input_messages_key=\"messages\"\n",
    ")"
   ]
  },
  {
   "cell_type": "code",
   "execution_count": 35,
   "metadata": {},
   "outputs": [],
   "source": [
    "configuration_5={\"configurable\":{\"session_id\":\"chat_5\"}}"
   ]
  },
  {
   "cell_type": "code",
   "execution_count": 37,
   "metadata": {},
   "outputs": [
    {
     "data": {
      "text/plain": [
       "'The World Series in 2020 was won by the Los Angeles Dodgers. They defeated the Tampa Bay Rays in six games to claim their seventh championship in franchise history. The series was played at the Globe Life Field in Arlington, Texas, from October 20 to October 27, 2020.'"
      ]
     },
     "execution_count": 37,
     "metadata": {},
     "output_type": "execute_result"
    }
   ],
   "source": [
    "response_5=with_message_history.invoke({\"messages\":chat_messages + [HumanMessage(content=\"Who won the world series in 2020\")],\n",
    "                                        \"language\":\"english\"},config=configuration_5)\n",
    "response_5.content"
   ]
  },
  {
   "cell_type": "code",
   "execution_count": 38,
   "metadata": {},
   "outputs": [],
   "source": [
    "# Using Vectorstore and Retriever\n",
    "from langchain_core.documents import Document\n",
    "documents=[\n",
    "    Document(\n",
    "        page_content=\"Dogs are great companions, known for their loyalty and friendliness.\",\n",
    "        metadata={\"source\":\"mammal-pet-dogs\"}\n",
    "    ),\n",
    "    Document(\n",
    "        page_content=\"Cats are independent and can be playful and independent.\",\n",
    "        metadata={\"source\":\"mammal-pet-cats\"}\n",
    "    ),\n",
    "    Document(\n",
    "        page_content=\"Parrots are colorful and can mimic sounds.\",\n",
    "        metadata={\"source\":\"bird-parrots\"}\n",
    "    ),\n",
    "    Document(\n",
    "        page_content=\"Eagles are powerful and can hunt for prey.\",\n",
    "        metadata={\"source\":\"bird-eagles\"}\n",
    "    )\n",
    "]"
   ]
  },
  {
   "cell_type": "code",
   "execution_count": 39,
   "metadata": {},
   "outputs": [
    {
     "data": {
      "text/plain": [
       "[Document(metadata={'source': 'mammal-pet-dogs'}, page_content='Dogs are great companions, known for their loyalty and friendliness.'),\n",
       " Document(metadata={'source': 'mammal-pet-cats'}, page_content='Cats are independent and can be playful and independent.'),\n",
       " Document(metadata={'source': 'bird-parrots'}, page_content='Parrots are colorful and can mimic sounds.'),\n",
       " Document(metadata={'source': 'bird-eagles'}, page_content='Eagles are powerful and can hunt for prey.')]"
      ]
     },
     "execution_count": 39,
     "metadata": {},
     "output_type": "execute_result"
    }
   ],
   "source": [
    "documents"
   ]
  },
  {
   "cell_type": "code",
   "execution_count": 41,
   "metadata": {},
   "outputs": [],
   "source": [
    "from langchain_chroma import Chroma\n",
    "llm_1=ChatGroq(model=\"Llama3-8b-8192\",groq_api_key=api_key)"
   ]
  },
  {
   "cell_type": "code",
   "execution_count": 43,
   "metadata": {},
   "outputs": [],
   "source": [
    "from langchain_huggingface import HuggingFaceEmbeddings\n",
    "hf_api=os.environ[\"HF_TOKEN\"] = os.getenv(\"HF_TOKEN\")\n",
    "embeddings=HuggingFaceEmbeddings(model_name=\"all-MiniLM-L6-v2\")"
   ]
  },
  {
   "cell_type": "code",
   "execution_count": 44,
   "metadata": {},
   "outputs": [
    {
     "data": {
      "text/plain": [
       "<langchain_chroma.vectorstores.Chroma at 0x23a328e9ab0>"
      ]
     },
     "execution_count": 44,
     "metadata": {},
     "output_type": "execute_result"
    }
   ],
   "source": [
    "vec=Chroma.from_documents(documents,embeddings)\n",
    "vec"
   ]
  },
  {
   "cell_type": "code",
   "execution_count": 45,
   "metadata": {},
   "outputs": [
    {
     "data": {
      "text/plain": [
       "[Document(id='afec360f-df29-49db-bac4-9c0abf3f73be', metadata={'source': 'mammal-pet-cats'}, page_content='Cats are independent and can be playful and independent.'),\n",
       " Document(id='63c283c7-eaca-4a9d-bd69-d86058f9bdb4', metadata={'source': 'mammal-pet-dogs'}, page_content='Dogs are great companions, known for their loyalty and friendliness.'),\n",
       " Document(id='51a484f1-8a78-4be7-84a1-4e258ed29e5a', metadata={'source': 'bird-parrots'}, page_content='Parrots are colorful and can mimic sounds.'),\n",
       " Document(id='7cd36ba3-4753-478e-9aee-8a81ae9e622c', metadata={'source': 'bird-eagles'}, page_content='Eagles are powerful and can hunt for prey.')]"
      ]
     },
     "execution_count": 45,
     "metadata": {},
     "output_type": "execute_result"
    }
   ],
   "source": [
    "vec.similarity_search(\"cat\")"
   ]
  },
  {
   "cell_type": "code",
   "execution_count": 46,
   "metadata": {},
   "outputs": [
    {
     "data": {
      "text/plain": [
       "[(Document(id='afec360f-df29-49db-bac4-9c0abf3f73be', metadata={'source': 'mammal-pet-cats'}, page_content='Cats are independent and can be playful and independent.'),\n",
       "  1.00242018699646),\n",
       " (Document(id='63c283c7-eaca-4a9d-bd69-d86058f9bdb4', metadata={'source': 'mammal-pet-dogs'}, page_content='Dogs are great companions, known for their loyalty and friendliness.'),\n",
       "  1.5740896463394165),\n",
       " (Document(id='51a484f1-8a78-4be7-84a1-4e258ed29e5a', metadata={'source': 'bird-parrots'}, page_content='Parrots are colorful and can mimic sounds.'),\n",
       "  1.6792776584625244),\n",
       " (Document(id='7cd36ba3-4753-478e-9aee-8a81ae9e622c', metadata={'source': 'bird-eagles'}, page_content='Eagles are powerful and can hunt for prey.'),\n",
       "  1.6888368129730225)]"
      ]
     },
     "execution_count": 46,
     "metadata": {},
     "output_type": "execute_result"
    }
   ],
   "source": [
    "vec.similarity_search_with_score(\"cat\")"
   ]
  },
  {
   "cell_type": "code",
   "execution_count": 48,
   "metadata": {},
   "outputs": [
    {
     "data": {
      "text/plain": [
       "[[Document(id='afec360f-df29-49db-bac4-9c0abf3f73be', metadata={'source': 'mammal-pet-cats'}, page_content='Cats are independent and can be playful and independent.')],\n",
       " [Document(id='63c283c7-eaca-4a9d-bd69-d86058f9bdb4', metadata={'source': 'mammal-pet-dogs'}, page_content='Dogs are great companions, known for their loyalty and friendliness.')]]"
      ]
     },
     "execution_count": 48,
     "metadata": {},
     "output_type": "execute_result"
    }
   ],
   "source": [
    "retriever=vec.as_retriever(\n",
    "    search_type=\"similarity\",\n",
    "    search_kwargs={\"k\": 1}\n",
    ")\n",
    "retriever.batch([\"cat\",\"dog\"])"
   ]
  },
  {
   "cell_type": "code",
   "execution_count": 51,
   "metadata": {},
   "outputs": [
    {
     "name": "stdout",
     "output_type": "stream",
     "text": [
      "Based on the provided context, dogs are known for being great companions, and they are recognized for their loyalty and friendliness. They are often kept as pets and can form strong bonds with their human families.\n"
     ]
    }
   ],
   "source": [
    "messages_1=\"\"\" \n",
    "Answer the question using provided context only.\n",
    "{question}\n",
    "context:{context}\n",
    "\"\"\"\n",
    "prompt_2=ChatPromptTemplate.from_messages([(\"human\",messages_1)])\n",
    "rag_chain={\"context\":retriever,\"question\":RunnablePassthrough()}|prompt_2|llm\n",
    "response_6=rag_chain.invoke(\"Tell me about Dogs?\")\n",
    "print(response_6.content)"
   ]
  },
  {
   "cell_type": "code",
   "execution_count": null,
   "metadata": {},
   "outputs": [],
   "source": []
  },
  {
   "cell_type": "code",
   "execution_count": null,
   "metadata": {},
   "outputs": [],
   "source": []
  },
  {
   "cell_type": "code",
   "execution_count": null,
   "metadata": {},
   "outputs": [],
   "source": []
  },
  {
   "cell_type": "code",
   "execution_count": null,
   "metadata": {},
   "outputs": [],
   "source": []
  },
  {
   "cell_type": "code",
   "execution_count": null,
   "metadata": {},
   "outputs": [],
   "source": []
  },
  {
   "cell_type": "code",
   "execution_count": null,
   "metadata": {},
   "outputs": [],
   "source": []
  },
  {
   "cell_type": "code",
   "execution_count": null,
   "metadata": {},
   "outputs": [],
   "source": []
  }
 ],
 "metadata": {
  "kernelspec": {
   "display_name": "venv",
   "language": "python",
   "name": "python3"
  },
  "language_info": {
   "codemirror_mode": {
    "name": "ipython",
    "version": 3
   },
   "file_extension": ".py",
   "mimetype": "text/x-python",
   "name": "python",
   "nbconvert_exporter": "python",
   "pygments_lexer": "ipython3",
   "version": "3.10.16"
  }
 },
 "nbformat": 4,
 "nbformat_minor": 2
}
