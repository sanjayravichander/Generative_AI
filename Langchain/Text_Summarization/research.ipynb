{
 "cells": [
  {
   "cell_type": "code",
   "execution_count": null,
   "metadata": {},
   "outputs": [],
   "source": [
    "import os\n",
    "from langchain_groq import ChatGroq\n",
    "api_key=os.getenv(\"GROQAI_API_KEY\")\n",
    "llm=ChatGroq(temperature=0,api_key=api_key,model_name=\"Llama3-8b-8192\")"
   ]
  },
  {
   "cell_type": "code",
   "execution_count": 2,
   "metadata": {},
   "outputs": [],
   "source": [
    "speech=\"\"\" \n",
    "I express my heartfelt gratitude for being conferred the highest National Award of Mauritius. This is not just my honour. \n",
    "It is the honour of 1.4 billion Indians. It is a tribute to the centuries-old cultural and historical bonds of kinship \n",
    "between India and Mauritius. It is an acknowledgment of our shared commitment to regional peace, progress, security and \n",
    "sustainable development. And, it is a symbol of the shared hopes and aspirations of the Global South. I accept this Award \n",
    "with full humility and gratitude. I dedicate it to your ancestors who came from India to Mauritius centuries ago, and to \n",
    "all their generations. Through their hard work, they wrote a golden chapter in the development of Mauritius and contributed\n",
    " to its vibrant diversity. I also embrace this honour as a responsibility. I reaffirm our commitment that we will continue \n",
    " to make every effort to enhance India-Mauritius Strategic Partnership to greater heights.\n",
    "\"\"\""
   ]
  },
  {
   "cell_type": "code",
   "execution_count": 3,
   "metadata": {},
   "outputs": [],
   "source": [
    "from langchain.schema import SystemMessage,AIMessage,HumanMessage\n",
    "\n",
    "chat_message=([\n",
    "    SystemMessage(content=\"You are an expertise in Summarizing the speech\"),\n",
    "    HumanMessage(content=f\"Please provide a short and consice summary of the following speech:\\n Text:{speech}\")\n",
    "])"
   ]
  },
  {
   "cell_type": "code",
   "execution_count": 4,
   "metadata": {},
   "outputs": [
    {
     "data": {
      "text/plain": [
       "200"
      ]
     },
     "execution_count": 4,
     "metadata": {},
     "output_type": "execute_result"
    }
   ],
   "source": [
    "llm.get_num_tokens(speech)"
   ]
  },
  {
   "cell_type": "code",
   "execution_count": 5,
   "metadata": {},
   "outputs": [
    {
     "name": "stderr",
     "output_type": "stream",
     "text": [
      "C:\\Users\\DELL\\AppData\\Local\\Temp\\ipykernel_20028\\2810984526.py:1: LangChainDeprecationWarning: The method `BaseChatModel.__call__` was deprecated in langchain-core 0.1.7 and will be removed in 1.0. Use :meth:`~invoke` instead.\n",
      "  print(llm(chat_message).content)\n"
     ]
    },
    {
     "name": "stdout",
     "output_type": "stream",
     "text": [
      "Here is a concise summary of the speech:\n",
      "\n",
      "The speaker expresses gratitude for receiving the highest National Award of Mauritius, considering it an honor not just for themselves, but for 1.4 billion Indians and a symbol of shared cultural, historical, and aspirational ties between India and Mauritius. They dedicate the award to the ancestors who migrated from India to Mauritius and reaffirm their commitment to strengthening the India-Mauritius Strategic Partnership.\n"
     ]
    }
   ],
   "source": [
    "print(llm(chat_message).content)"
   ]
  },
  {
   "cell_type": "code",
   "execution_count": 10,
   "metadata": {},
   "outputs": [
    {
     "data": {
      "text/plain": [
       "PromptTemplate(input_variables=['language', 'speech'], input_types={}, partial_variables={}, template=' \\nHey, you are an expertise in summarizing the speech:\\nspeech:{speech}\\nTranslate the precise summary to {language}\\n')"
      ]
     },
     "execution_count": 10,
     "metadata": {},
     "output_type": "execute_result"
    }
   ],
   "source": [
    "## To Handle big sentences or paragraph\n",
    "from langchain.chains import LLMChain\n",
    "from langchain_core.prompts import PromptTemplate\n",
    "\n",
    "generic_template=\"\"\" \n",
    "Hey, you are an expertise in summarizing the speech:\n",
    "speech:{speech}\n",
    "Translate the precise summary to {language}\n",
    "\"\"\"\n",
    "\n",
    "prompt=PromptTemplate(input_variables=['speech','language'],template=generic_template)\n",
    "prompt"
   ]
  },
  {
   "cell_type": "code",
   "execution_count": 12,
   "metadata": {},
   "outputs": [],
   "source": [
    "complete_prompt=prompt.format(speech=speech,language=\"French\")"
   ]
  },
  {
   "cell_type": "code",
   "execution_count": 14,
   "metadata": {},
   "outputs": [
    {
     "data": {
      "text/plain": [
       "226"
      ]
     },
     "execution_count": 14,
     "metadata": {},
     "output_type": "execute_result"
    }
   ],
   "source": [
    "llm.get_num_tokens(complete_prompt)"
   ]
  },
  {
   "cell_type": "code",
   "execution_count": 16,
   "metadata": {},
   "outputs": [
    {
     "data": {
      "text/plain": [
       "'Here is a precise summary of the speech:\\n\\n\"मैं नेशनल अवार्ड ऑफ मॉरिशस के लिए अपना दिल से शुक्रिया अदा करता हूँ। यह मेरा सम्मान नहीं है, बल्कि 1.4 अरब भारतीयों का सम्मान है। यह भारत और मॉरिशस के सदियों पुराने सांस्कृतिक और ऐतिहासिक संबंधों की श्रद्धांजलि है, जो क्षेत्रीय शांति, विकास, सुरक्षा और स्थायी विकास के लिए हमारे साझा प्रतिबद्धता का प्रतीक है। मैं इस अवार्ड को पूरी हिम्मत और शुक्रिया से स्वीकार करता हूँ और इसका श्रेय मॉरिशस से भारतीय पूर्वजों को देता हूँ, जिन्होंने सदियों पहले मॉरिशस में आकर काम किया और उसके विकास में योगदान दिया। मैं इस सम्मान को जिम्मेदारी के रूप में स्वीकार करता हूँ और हमारे संकल्प को दोहराता हूँ कि हम भारत-मॉरिशस स्ट्रेटजिक पार्टनरशिप को और ऊंचाई पर ले जाने के लिए पूरी कोशिश करेंगे।\"\\n\\nTranslation:\\n\\n\"I express my heartfelt gratitude for being conferred the National Award of Mauritius. This is not just my honor, but the honor of 1.4 billion Indians. This is a tribute to the centuries-old cultural and historical bonds between India and Mauritius, which is a symbol of our shared commitment to regional peace, progress, security, and sustainable development. I accept this award with full humility and gratitude and dedicate it to the ancestors who came from India to Mauritius centuries ago, who worked hard and contributed to the development of Mauritius and its vibrant diversity. I also accept this honor as a responsibility and reaffirm our commitment to take the India-Mauritius Strategic Partnership to greater heights.\"'"
      ]
     },
     "execution_count": 16,
     "metadata": {},
     "output_type": "execute_result"
    }
   ],
   "source": [
    "llm_chain=LLMChain(llm=llm,prompt=prompt)\n",
    "summary=llm_chain.run({'speech':speech,'language':\"Hindi\"})\n",
    "summary"
   ]
  },
  {
   "cell_type": "code",
   "execution_count": 3,
   "metadata": {},
   "outputs": [],
   "source": [
    "from langchain.chains import llm_math"
   ]
  },
  {
   "cell_type": "code",
   "execution_count": null,
   "metadata": {},
   "outputs": [],
   "source": [
    "curl https://api.groq.com/openai/v1/chat/completions -s \\\n",
    "-H \"Content-Type: application/json\" \\\n",
    "-H \"Authorization: Bearer $GROQ_API_KEY\" \\\n",
    "-d '{\n",
    "\"model\": \"llama-3.3-70b-versatile\",\n",
    "\"messages\": [{\n",
    "    \"role\": \"user\",\n",
    "    \"content\": \"Explain the importance of fast language models\"\n",
    "}]\n",
    "}'"
   ]
  },
  {
   "cell_type": "code",
   "execution_count": null,
   "metadata": {},
   "outputs": [],
   "source": []
  },
  {
   "cell_type": "code",
   "execution_count": null,
   "metadata": {},
   "outputs": [],
   "source": []
  },
  {
   "cell_type": "code",
   "execution_count": null,
   "metadata": {},
   "outputs": [],
   "source": []
  },
  {
   "cell_type": "code",
   "execution_count": null,
   "metadata": {},
   "outputs": [],
   "source": []
  },
  {
   "cell_type": "code",
   "execution_count": null,
   "metadata": {},
   "outputs": [],
   "source": []
  },
  {
   "cell_type": "code",
   "execution_count": null,
   "metadata": {},
   "outputs": [],
   "source": []
  },
  {
   "cell_type": "code",
   "execution_count": null,
   "metadata": {},
   "outputs": [],
   "source": []
  },
  {
   "cell_type": "code",
   "execution_count": null,
   "metadata": {},
   "outputs": [],
   "source": []
  },
  {
   "cell_type": "code",
   "execution_count": null,
   "metadata": {},
   "outputs": [],
   "source": []
  },
  {
   "cell_type": "code",
   "execution_count": null,
   "metadata": {},
   "outputs": [],
   "source": []
  },
  {
   "cell_type": "code",
   "execution_count": null,
   "metadata": {},
   "outputs": [],
   "source": []
  },
  {
   "cell_type": "code",
   "execution_count": null,
   "metadata": {},
   "outputs": [],
   "source": []
  },
  {
   "cell_type": "code",
   "execution_count": null,
   "metadata": {},
   "outputs": [],
   "source": []
  },
  {
   "cell_type": "code",
   "execution_count": null,
   "metadata": {},
   "outputs": [],
   "source": []
  }
 ],
 "metadata": {
  "kernelspec": {
   "display_name": "Python 3",
   "language": "python",
   "name": "python3"
  },
  "language_info": {
   "codemirror_mode": {
    "name": "ipython",
    "version": 3
   },
   "file_extension": ".py",
   "mimetype": "text/x-python",
   "name": "python",
   "nbconvert_exporter": "python",
   "pygments_lexer": "ipython3",
   "version": "3.10.16"
  }
 },
 "nbformat": 4,
 "nbformat_minor": 2
}
